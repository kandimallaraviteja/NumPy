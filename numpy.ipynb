{
 "cells": [
  {
   "cell_type": "markdown",
   "id": "642b179d-7af0-4140-9e96-1ac82b98eb03",
   "metadata": {},
   "source": [
    "# Facts about numpy\n",
    "- Every element in a NumPy array uniformly occupies n bytes.\n",
    "- NumPy arrays are stored contiguously in memory.\n",
    "- "
   ]
  },
  {
   "cell_type": "code",
   "execution_count": 3,
   "id": "256b08f9-5e1e-4a3d-8cb1-e5ab4ff19819",
   "metadata": {},
   "outputs": [],
   "source": [
    "import numpy as np\n",
    "from numpy.lib.stride_tricks import as_strided"
   ]
  },
  {
   "cell_type": "markdown",
   "id": "6ccfb2cc-4d65-40b0-8ce9-8401d35a714c",
   "metadata": {},
   "source": [
    "## 1. allclose() function\n",
    "- A comparison function that checks whether two arrays are equal or pretty similar. \n",
    "- Compares two arrays of the data item by elementwise within a threshold.\n",
    "- Then returns a Boolean value as a result."
   ]
  },
  {
   "cell_type": "code",
   "execution_count": 40,
   "id": "a2feb49e-e9f0-4b53-9a5b-d387b113b761",
   "metadata": {},
   "outputs": [
    {
     "name": "stdout",
     "output_type": "stream",
     "text": [
      "True\n",
      "False\n"
     ]
    }
   ],
   "source": [
    "a = np.array([0.16,0.26,0.365])\n",
    "b = np.array([0.15,0.25,0.36])\n",
    "tolerance1 = 0.1\n",
    "tolerance2 = 0.05\n",
    "print(np.allclose(a,b,tolerance1))\n",
    "print(np.allclose(a,b,tolerance2))"
   ]
  },
  {
   "cell_type": "markdown",
   "id": "56d2f087-5211-4fb2-a310-5294bc03ba0d",
   "metadata": {},
   "source": [
    "## 2. where() function\n",
    "- Where() is a function that returns elements from an array that meets a set of criteria."
   ]
  },
  {
   "cell_type": "code",
   "execution_count": 41,
   "id": "3c8986c4-f4bf-48cc-bf05-539baab1c426",
   "metadata": {},
   "outputs": [
    {
     "data": {
      "text/plain": [
       "(array([0, 1, 3, 4, 6]),)"
      ]
     },
     "execution_count": 41,
     "metadata": {},
     "output_type": "execute_result"
    }
   ],
   "source": [
    "list1 = np.array([1,4,7,6,1,7,3,8,9])\n",
    "# Where the elements in list1 are less than 7, returns the index position\n",
    "np.where(list1<7)"
   ]
  },
  {
   "cell_type": "markdown",
   "id": "f656fe46-19cd-4572-8fcb-808926324399",
   "metadata": {
    "tags": []
   },
   "source": [
    "## 3. extract() function\n",
    "- Extract() is used to retrieve specific members with an array depending on criteria."
   ]
  },
  {
   "cell_type": "code",
   "execution_count": 43,
   "id": "672ffe99-169d-48ed-a5b7-4f59304cdccd",
   "metadata": {},
   "outputs": [
    {
     "data": {
      "text/plain": [
       "array([ 5, 12,  8,  4,  1,  3,  4,  0, 17, 10,  2, 16])"
      ]
     },
     "execution_count": 43,
     "metadata": {},
     "output_type": "execute_result"
    }
   ],
   "source": [
    "array_test = np.random.randint(18, size=12)\n",
    "array_test"
   ]
  },
  {
   "cell_type": "code",
   "execution_count": 44,
   "id": "1680b1de-f21d-4d8e-890c-2109999ebb9d",
   "metadata": {},
   "outputs": [
    {
     "data": {
      "text/plain": [
       "array([ True, False, False, False,  True,  True, False, False,  True,\n",
       "       False, False, False])"
      ]
     },
     "execution_count": 44,
     "metadata": {},
     "output_type": "execute_result"
    }
   ],
   "source": [
    "cond = np.mod(array_test, 2)==1\n",
    "cond"
   ]
  },
  {
   "cell_type": "code",
   "execution_count": 45,
   "id": "cb203fd1-d1d7-47ae-9f69-ab12d9f2ef3c",
   "metadata": {},
   "outputs": [
    {
     "data": {
      "text/plain": [
       "array([ 5,  1,  3, 17])"
      ]
     },
     "execution_count": 45,
     "metadata": {},
     "output_type": "execute_result"
    }
   ],
   "source": [
    "np.extract(cond, array_test)"
   ]
  },
  {
   "cell_type": "markdown",
   "id": "d47cbfe6-eb04-4fd2-9d42-a42a1b87b25d",
   "metadata": {},
   "source": [
    "## 4. einsum() function\n",
    "- The einsum() function in NumPy (short for \"Einstein summation\") allows for advanced indexing and summation of multi-dimensional arrays."
   ]
  },
  {
   "cell_type": "code",
   "execution_count": 46,
   "id": "62d20bbc-d088-4b08-983f-f8fce4c54fef",
   "metadata": {},
   "outputs": [
    {
     "name": "stdout",
     "output_type": "stream",
     "text": [
      "option1\n",
      " [1 5 9]\n",
      "option2\n",
      " [1 5 9]\n"
     ]
    }
   ],
   "source": [
    "a = np.array([[1,2,3],[4,5,6],[7,8,9]])\n",
    "a_diag = np.einsum('ii->i', a)\n",
    "print(\"option1\\n\",a_diag)\n",
    "print('option2\\n',np.einsum(a,[0,0],[0]))"
   ]
  },
  {
   "cell_type": "code",
   "execution_count": 47,
   "id": "4d0e8941-5d48-4a71-a5a4-631d7ae44be6",
   "metadata": {},
   "outputs": [
    {
     "name": "stdout",
     "output_type": "stream",
     "text": [
      "option1\n",
      " [[1 4 7]\n",
      " [2 5 8]\n",
      " [3 6 9]]\n",
      "option2\n",
      " [[1 4 7]\n",
      " [2 5 8]\n",
      " [3 6 9]]\n"
     ]
    }
   ],
   "source": [
    "a_transpose = np.einsum(\"ij->ji\",a)\n",
    "print(\"option1\\n\",a_transpose)\n",
    "print(\"option2\\n\",np.einsum(a,[1,0]))"
   ]
  },
  {
   "cell_type": "markdown",
   "id": "1abd7c6b-db6c-403b-8fd6-2182ec4f4394",
   "metadata": {
    "tags": []
   },
   "source": [
    "## 6. clip() function\n",
    "- The clip() function in NumPy is a method for limiting the values in an array to a specified range."
   ]
  },
  {
   "cell_type": "code",
   "execution_count": 48,
   "id": "697c5ab0-ecf2-4cf0-9ca4-4baf0acd84a9",
   "metadata": {},
   "outputs": [
    {
     "name": "stdout",
     "output_type": "stream",
     "text": [
      "[3 4 5 5 2 2 3 5 2 2 5 2]\n"
     ]
    }
   ],
   "source": [
    "x = np.array([3, 4, 12, 20, 2, 2, 3, 7, 1, 2, 12, 0])\n",
    "print(np.clip(x,2,5))"
   ]
  },
  {
   "cell_type": "code",
   "execution_count": null,
   "id": "834a05c9-4e9f-4437-9ba4-8dc0307883c1",
   "metadata": {},
   "outputs": [],
   "source": []
  },
  {
   "cell_type": "markdown",
   "id": "ad23eabe-52bd-47d3-b8cc-c95b5924d9d3",
   "metadata": {},
   "source": [
    "### 1)Slice first 3 elements"
   ]
  },
  {
   "cell_type": "code",
   "execution_count": 15,
   "id": "73c18bb7-fa4c-4c9d-917e-8d80d82cbbf7",
   "metadata": {},
   "outputs": [
    {
     "name": "stdout",
     "output_type": "stream",
     "text": [
      "[[ 1  2  3  4  5]\n",
      " [ 6  7  8  9 10]\n",
      " [11 12 13 14 15]\n",
      " [16 17 18 19 20]\n",
      " [21 22 23 24 25]]\n"
     ]
    },
    {
     "data": {
      "text/plain": [
       "array([1, 2, 3], dtype=int8)"
      ]
     },
     "execution_count": 15,
     "metadata": {},
     "output_type": "execute_result"
    }
   ],
   "source": [
    "x = np.asarray(range(1,26), np.int8).reshape(5,5)\n",
    "print(x)\n",
    "as_strided(x, shape=(3,), strides=(1,))"
   ]
  },
  {
   "cell_type": "markdown",
   "id": "7ab2ecbf-fce5-4d1b-9b78-073aab476d22",
   "metadata": {},
   "source": [
    "###  2)Slice first 13 elements"
   ]
  },
  {
   "cell_type": "code",
   "execution_count": 8,
   "id": "7dee0ec0-07ec-4996-8f86-97323de70d86",
   "metadata": {},
   "outputs": [
    {
     "data": {
      "text/plain": [
       "array([ 1,  2,  3,  4,  5,  6,  7,  8,  9, 10, 11, 12, 13], dtype=int8)"
      ]
     },
     "execution_count": 8,
     "metadata": {},
     "output_type": "execute_result"
    }
   ],
   "source": [
    "as_strided(x, shape=(13,), strides=(1,))"
   ]
  },
  {
   "cell_type": "markdown",
   "id": "4d919bb2-774c-4b74-940d-115248cf4ab4",
   "metadata": {},
   "source": [
    "### 3)Flatten a 2D array"
   ]
  },
  {
   "cell_type": "code",
   "execution_count": 17,
   "id": "3f0bb4be-0825-45e1-9440-d7047919d99d",
   "metadata": {},
   "outputs": [
    {
     "data": {
      "text/plain": [
       "array([  1,   3,   5,   7,   9,  11,  13,  15,  17,  19,  21,  23,  25,\n",
       "       115, 101,  47,  48,   0,   0,   0,  49,   0,   0,   0, -80],\n",
       "      dtype=int8)"
      ]
     },
     "execution_count": 17,
     "metadata": {},
     "output_type": "execute_result"
    }
   ],
   "source": [
    "as_strided(x, shape=(25,), strides=(2,))"
   ]
  },
  {
   "cell_type": "code",
   "execution_count": 13,
   "id": "ef490cf9-4b7c-4e32-a31a-f56b1ac352a1",
   "metadata": {},
   "outputs": [
    {
     "data": {
      "text/plain": [
       "array([ 1,  2,  3,  4,  5,  6,  7,  8,  9, 10, 11, 12, 13, 14, 15, 16, 17,\n",
       "       18, 19, 20, 21, 22, 23, 24, 25], dtype=int8)"
      ]
     },
     "execution_count": 13,
     "metadata": {},
     "output_type": "execute_result"
    }
   ],
   "source": [
    "# You can also try like\n",
    "x.ravel()"
   ]
  },
  {
   "cell_type": "markdown",
   "id": "fd6b0de8-49d0-478a-b628-102ed67277af",
   "metadata": {},
   "source": [
    "### 4) Skip every other element"
   ]
  },
  {
   "cell_type": "code",
   "execution_count": 18,
   "id": "923a1e35-6e01-49cf-95dd-923295c31d0c",
   "metadata": {},
   "outputs": [
    {
     "name": "stdout",
     "output_type": "stream",
     "text": [
      "[[ 1  2  3  4  5]\n",
      " [ 6  7  8  9 10]\n",
      " [11 12 13 14 15]\n",
      " [16 17 18 19 20]\n",
      " [21 22 23 24 25]]\n"
     ]
    },
    {
     "data": {
      "text/plain": [
       "array([1, 3, 5], dtype=int8)"
      ]
     },
     "execution_count": 18,
     "metadata": {},
     "output_type": "execute_result"
    }
   ],
   "source": [
    "print(x)\n",
    "as_strided(x, shape=(3,), strides=(2,))"
   ]
  },
  {
   "cell_type": "code",
   "execution_count": 19,
   "id": "68ce8a29-e17e-404d-9a89-84289a5b48bc",
   "metadata": {},
   "outputs": [
    {
     "data": {
      "text/plain": [
       "array([1, 3, 5], dtype=int8)"
      ]
     },
     "execution_count": 19,
     "metadata": {},
     "output_type": "execute_result"
    }
   ],
   "source": [
    "# You can also try like\n",
    "x[0,::2]"
   ]
  },
  {
   "cell_type": "markdown",
   "id": "e48eeec6-c562-4654-b25c-9749844b0f46",
   "metadata": {},
   "source": [
    "### 5) Slice first column"
   ]
  },
  {
   "cell_type": "code",
   "execution_count": 27,
   "id": "93fe2ea4-f16b-4d55-952d-757ee05d9dbb",
   "metadata": {},
   "outputs": [
    {
     "data": {
      "text/plain": [
       "array([ 1,  6, 11, 16, 21], dtype=int8)"
      ]
     },
     "execution_count": 27,
     "metadata": {},
     "output_type": "execute_result"
    }
   ],
   "source": [
    "x[:5,0] # 0 is column number here"
   ]
  },
  {
   "cell_type": "markdown",
   "id": "ad552bca-318f-4f5c-ad44-10f0e3d187d6",
   "metadata": {},
   "source": [
    "### 6) Slice a diagonal"
   ]
  },
  {
   "cell_type": "code",
   "execution_count": 28,
   "id": "a8f00fe1-f0d9-47ae-af66-c7153612be3e",
   "metadata": {},
   "outputs": [
    {
     "data": {
      "text/plain": [
       "array([ 1,  7, 13, 19, 25], dtype=int8)"
      ]
     },
     "execution_count": 28,
     "metadata": {},
     "output_type": "execute_result"
    }
   ],
   "source": [
    "x.diagonal()"
   ]
  },
  {
   "cell_type": "markdown",
   "id": "07950900-870a-47a4-a6e5-4017909f0274",
   "metadata": {},
   "source": [
    "### 7) Repeat the first element"
   ]
  },
  {
   "cell_type": "code",
   "execution_count": 29,
   "id": "40bf84b9-8882-4680-a2bf-afe7d7c4a8d4",
   "metadata": {},
   "outputs": [
    {
     "data": {
      "text/plain": [
       "array([1, 1, 1, 1, 1], dtype=int8)"
      ]
     },
     "execution_count": 29,
     "metadata": {},
     "output_type": "execute_result"
    }
   ],
   "source": [
    "np.broadcast_to(x[0,0], (5,))"
   ]
  },
  {
   "cell_type": "markdown",
   "id": "76cdb190-86ce-4547-85aa-e85d0ecbdaad",
   "metadata": {},
   "source": [
    "### 8) Simple 2D slicing"
   ]
  },
  {
   "cell_type": "code",
   "execution_count": 30,
   "id": "288dd914-72f3-472d-8c6f-65bde7f53f6d",
   "metadata": {},
   "outputs": [
    {
     "data": {
      "text/plain": [
       "array([[ 1,  2,  3,  4],\n",
       "       [ 6,  7,  8,  9],\n",
       "       [11, 12, 13, 14]], dtype=int8)"
      ]
     },
     "execution_count": 30,
     "metadata": {},
     "output_type": "execute_result"
    }
   ],
   "source": [
    "x[:3,:4]"
   ]
  },
  {
   "cell_type": "markdown",
   "id": "51a2aadb-cb76-4801-aa1b-9d4b77ef5cc2",
   "metadata": {},
   "source": [
    "### 9) Sparse slicing"
   ]
  },
  {
   "cell_type": "code",
   "execution_count": 37,
   "id": "2b5d2553-6c8b-4275-914b-725503e1c1a5",
   "metadata": {},
   "outputs": [
    {
     "name": "stdout",
     "output_type": "stream",
     "text": [
      "[[ 1  2  3  4  5]\n",
      " [ 6  7  8  9 10]\n",
      " [11 12 13 14 15]\n",
      " [16 17 18 19 20]\n",
      " [21 22 23 24 25]]\n",
      "\n",
      "sparce sclicing\n",
      " [[ 1  3  5]\n",
      " [11 13 15]\n",
      " [21 23 25]]\n"
     ]
    }
   ],
   "source": [
    "print(x)\n",
    "print(\"\\nsparce sclicing\\n\",x[::2,::2])"
   ]
  },
  {
   "cell_type": "markdown",
   "id": "8783ca21-113c-475f-8d3e-fa15d59cc4a1",
   "metadata": {},
   "source": [
    "### 10) Transpose a 2D array"
   ]
  },
  {
   "cell_type": "code",
   "execution_count": 39,
   "id": "61b8a464-eebd-4618-8e8b-47160eb72825",
   "metadata": {},
   "outputs": [
    {
     "name": "stdout",
     "output_type": "stream",
     "text": [
      "[[ 1  2  3]\n",
      " [ 6  7  8]\n",
      " [11 12 13]]\n",
      "\n",
      " Transposed version\n",
      " [[ 1  6 11]\n",
      " [ 2  7 12]\n",
      " [ 3  8 13]]\n"
     ]
    }
   ],
   "source": [
    "print(x[:3,:3])\n",
    "print(\"\\n Transposed version\\n\",x[:3,:3].T)"
   ]
  },
  {
   "cell_type": "code",
   "execution_count": null,
   "id": "f4b0c75e-9054-4a13-99ca-6f3c43888a21",
   "metadata": {},
   "outputs": [],
   "source": []
  }
 ],
 "metadata": {
  "kernelspec": {
   "display_name": "Python 3 (ipykernel)",
   "language": "python",
   "name": "python3"
  },
  "language_info": {
   "codemirror_mode": {
    "name": "ipython",
    "version": 3
   },
   "file_extension": ".py",
   "mimetype": "text/x-python",
   "name": "python",
   "nbconvert_exporter": "python",
   "pygments_lexer": "ipython3",
   "version": "3.9.12"
  }
 },
 "nbformat": 4,
 "nbformat_minor": 5
}
